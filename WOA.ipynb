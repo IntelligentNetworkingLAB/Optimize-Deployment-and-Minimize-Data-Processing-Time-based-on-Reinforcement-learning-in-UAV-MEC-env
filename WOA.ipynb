import numpy as np
import matplotlib.pyplot as plt
#%matplotlib inline
from mpl_toolkits.mplot3d import Axes3D
from sklearn.cluster import DBSCAN
import scipy.cluster.hierarchy as sch
import scipy.stats
from sklearn.cluster import KMeans
from sklearn.cluster import AgglomerativeClustering
from scipy.spatial import distance
from itertools import combinations, permutations
import math
from copy import copy

#Simulation window parameters
xMin=0;xMax=100;
yMin=0;yMax=100;
xDelta=xMax-xMin;yDelta=yMax-yMin; #rectangle dimensions
areaTotal=xDelta*yDelta;
 
#Point process parameters
lambda0=1000; #intensity (ie mean density) of the Poisson process
 
#Simulate Poisson point process
numbPoints = 100 #Poisson number of points
xx = xDelta*scipy.stats.uniform.rvs(0,1,((numbPoints,1)))+xMin#x coordinates of Poisson points
yy = yDelta*scipy.stats.uniform.rvs(0,1,((numbPoints,1)))+yMin#y coordinates of Poisson points


xx2 = np.array(xx)
yy2 = np.array(yy)

data2 = np.hstack((xx2,yy2))

fig = plt.figure()

plt.scatter(data2[:,0], data2[:,1], s=50)

plt.show()

class WAO:
  def __init__(self, n_agent=10, n_cluster=10, numbPoints=100, t_max=10):
    self.n_agent = n_agent
    self.n_cluster = n_cluster
    self.numbPoints=numbPoints
    self.t_max=t_max
  

  def makeAgent(self):
    n_cluster=self.n_cluster

    agent=np.zeros(shape=(n_cluster, 2))

    return agent

  #입력으로 좌표받고 각 클러스터 좌표와 거리 구해줌(최소값으로 본인 클러스터 찾아가려는 목적)
  #각 에이전트의 좌표들은 클러스터후보군임
  def calDistPointCluster(self, agent, point_data):
    self.agent = agent
    self.point_data = point_data
    
    n_agent = self.n_agent
    n_cluster = self.n_cluster

    dst = np.zeros(shape=(numbPoints, n_cluster))

    for i in range(numbPoints):
      for j in range(n_cluster):
        dst[i][j] = distance.euclidean(agent[j],point_data[i])

    return dst


  def calLabels(self, dst):
    labels = np.zeros(shape=(numbPoints,))
    for i in range(numbPoints):
      labels[i] = dst[i].argmin()

    return labels
        

  def caldstMin(self, dst):
    caldstMin = np.zeros(shape=(numbPoints,))
    for i in range(numbPoints):
      caldstMin[i] = dst[i].min()

    return caldstMin


  def calF1(self, dst):
    f1=0
    
    labels = np.zeros(shape=(numbPoints,))
    for i in range(numbPoints):
      labels[i] = dst[i].argmin()
    
    #클러스터마다 연결된 노드의 개수 카운팅
    counts = np.zeros(shape=(n_cluster,))
    for i in range(numbPoints):
      if labels[i] == 0:
        counts[0]+=1
      elif labels[i] == 1:
        counts[1]+=1
      elif labels[i] == 2:
        counts[2]+=1
      elif labels[i] == 3:
        counts[3]+=1
      else:
        counts[4]+=1
    #counts = np.unique(labels, return_counts=True)[1]


    for i in range(n_cluster):
      f1 += abs(counts[i] - numbPoints/n_cluster)


    return f1

  
  def calF2(self, dst):
    caldstMin = np.zeros(shape=(numbPoints,))
    for i in range(numbPoints):
      caldstMin[i] = dst[i].min()
    
    return caldstMin.sum()


  def calF3(self, agent):
    #np.where(x[i]==1)[0] << i번째 agent의 cluster index 불러오기
    f3 = 0

    comb = list(combinations(agent,2))
    
    for i in range(len(comb)):
      f3 += distance.euclidean(comb[i][0],comb[i][1])

    return f3


  def calF4(self, base_station, agent):
    f4 = 0

    for i in range(n_cluster):
      f4 += distance.euclidean(base_station,agent[i])
    
    return f4
    

  def calFitness(self, agent, data2, base_station):
    dst = self.calDistPointCluster(agent,data2)
    w1=10
    w2=0
    w3=0
    w4=0
    fitness = w1*self.calF1(dst)+self.calF2(dst)+self.calF3(agent)+self.calF4(base_station,agent)
    
    return fitness

  def printFitness(self, agent, data2, base_station):
    dst = self.calDistPointCluster(agent,data2)
    w1=10
    w2=0
    w3=0
    w4=0
    fitness = w1*self.calF1(dst)+self.calF2(dst)+self.calF3(agent)+self.calF4(base_station,agent)
    print(self.calF1(dst))
    print(self.calF2(dst))
    print(self.calF3(agent))
    print(self.calF4(base_station,agent))
    print(fitness)
    
